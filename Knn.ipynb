{
  "nbformat": 4,
  "nbformat_minor": 0,
  "metadata": {
    "colab": {
      "name": "Knn.ipynb",
      "provenance": [],
      "authorship_tag": "ABX9TyPwhxbfSiUByn0Iivpzsz4Z",
      "include_colab_link": true
    },
    "kernelspec": {
      "name": "python3",
      "display_name": "Python 3"
    },
    "language_info": {
      "name": "python"
    }
  },
  "cells": [
    {
      "cell_type": "markdown",
      "metadata": {
        "id": "view-in-github",
        "colab_type": "text"
      },
      "source": [
        "<a href=\"https://colab.research.google.com/github/vineet1947/general_code-_files-/blob/main/Knn.ipynb\" target=\"_parent\"><img src=\"https://colab.research.google.com/assets/colab-badge.svg\" alt=\"Open In Colab\"/></a>"
      ]
    },
    {
      "cell_type": "markdown",
      "source": [
        "#Required Data Preparation"
      ],
      "metadata": {
        "id": "FthSZ7s-JItP"
      }
    },
    {
      "cell_type": "code",
      "execution_count": 1,
      "metadata": {
        "id": "sd7-_n3EI7Xb"
      },
      "outputs": [],
      "source": [
        "import pandas as pd\n",
        "import numpy as np\n",
        "import matplotlib.pyplot as plt\n",
        "from sklearn.datasets import make_classification\n",
        "from sklearn.model_selection import train_test_split\n",
        "from sklearn.preprocessing import StandardScaler\n",
        "from sklearn.neighbors import KNeighborsClassifier \n",
        "from sklearn import metrics"
      ]
    },
    {
      "cell_type": "code",
      "source": [
        "X,Y=make_classification(n_samples= 200,n_features=8,n_informative=8,n_redundant=0,n_repeated=0,n_classes=2,random_state=14)\n",
        "X_train, X_test, y_train, y_test= train_test_split(X, Y, test_size= 0.2,random_state=32)\n",
        "sc= StandardScaler()\n",
        "sc.fit(X_train)\n",
        "X_train= sc.transform(X_train)\n",
        "sc.fit(X_test)\n",
        "X_test= sc.transform(X_test)\n",
        "X.shape"
      ],
      "metadata": {
        "colab": {
          "base_uri": "https://localhost:8080/"
        },
        "id": "t7XMRsCYJE0-",
        "outputId": "16a810a6-9c29-4461-cab3-663409f3b879"
      },
      "execution_count": 2,
      "outputs": [
        {
          "output_type": "execute_result",
          "data": {
            "text/plain": [
              "(200, 8)"
            ]
          },
          "metadata": {},
          "execution_count": 2
        }
      ]
    },
    {
      "cell_type": "markdown",
      "source": [
        "#Find the value for K"
      ],
      "metadata": {
        "id": "kC0zBX3wJRpj"
      }
    },
    {
      "cell_type": "code",
      "source": [
        "error1= []\n",
        "error2= []\n",
        "for k in range(1,15):\n",
        "    knn= KNeighborsClassifier(n_neighbors=k)\n",
        "    knn.fit(X_train,y_train)\n",
        "    y_pred1= knn.predict(X_train)\n",
        "    error1.append(np.mean(y_train!= y_pred1))\n",
        "    y_pred2= knn.predict(X_test)\n",
        "    error2.append(np.mean(y_test!= y_pred2))\n",
        "# plt.figure(figsize(10,5))\n",
        "plt.plot(range(1,15),error1,label=\"train\")\n",
        "plt.plot(range(1,15),error2,label=\"test\")\n",
        "plt.xlabel('k Value')\n",
        "plt.ylabel('Error')\n",
        "plt.legend()"
      ],
      "metadata": {
        "colab": {
          "base_uri": "https://localhost:8080/",
          "height": 297
        },
        "id": "h6yokHxZJE6K",
        "outputId": "9e7d6650-5b65-49df-a2fd-6307430bb086"
      },
      "execution_count": 3,
      "outputs": [
        {
          "output_type": "execute_result",
          "data": {
            "text/plain": [
              "<matplotlib.legend.Legend at 0x7fd924de92d0>"
            ]
          },
          "metadata": {},
          "execution_count": 3
        },
        {
          "output_type": "display_data",
          "data": {
            "text/plain": [
              "<Figure size 432x288 with 1 Axes>"
            ],
            "image/png": "[encoded data removed]"
          },
          "metadata": {
            "needs_background": "light"
          }
        }
      ]
    },
    {
      "cell_type": "markdown",
      "source": [
        "#Predict"
      ],
      "metadata": {
        "id": "2j_80tvbJXnv"
      }
    },
    {
      "cell_type": "code",
      "source": [
        "knn= KNeighborsClassifier(n_neighbors=7)\n",
        "knn.fit(X_train,y_train)\n",
        "y_pred= knn.predict(X_test)\n",
        "metrics.accuracy_score(y_test,y_pred)"
      ],
      "metadata": {
        "colab": {
          "base_uri": "https://localhost:8080/"
        },
        "id": "YTzxYD09JE8m",
        "outputId": "8e58d616-8d9b-4aff-8e8d-aaf55217fb44"
      },
      "execution_count": 4,
      "outputs": [
        {
          "output_type": "execute_result",
          "data": {
            "text/plain": [
              "0.9"
            ]
          },
          "metadata": {},
          "execution_count": 4
        }
      ]
    },
    {
      "cell_type": "markdown",
      "source": [
        "#HyperParameter Tuning "
      ],
      "metadata": {
        "id": "nPO37nvhZfRd"
      }
    },
    {
      "cell_type": "code",
      "source": [
        "import os\n",
        "import math\n",
        "from collections import Counter\n",
        "import numpy as np\n",
        "import pandas as pd\n",
        "import matplotlib.pyplot as plt\n",
        "import warnings\n",
        "warnings.filterwarnings('ignore')\n",
        "\n",
        "%matplotlib inline\n",
        "\n",
        "# making results reproducible\n",
        "np.random.seed(42)"
      ],
      "metadata": {
        "id": "qGkMTZK-JE_F"
      },
      "execution_count": 5,
      "outputs": []
    },
    {
      "cell_type": "code",
      "source": [
        "df = pd.read_csv(\n",
        "    'https://archive.ics.uci.edu/ml/machine-learning-databases/wine/wine.data', header=None, sep=',')\n",
        "\n",
        "df.columns = ['CLASS', 'ALCOHOL_LEVEL', 'MALIC_ACID', 'ASH', 'ALCALINITY','MAGNESIUM', 'PHENOLS', \n",
        "              'FLAVANOIDS', 'NON_FLAVANOID_PHENOL', 'PROANTHOCYANINS', 'COLOR_INTENSITY', \n",
        "              'HUE', 'OD280/OD315_DILUTED','PROLINE']\n",
        "\n",
        "# Let us use only two features : 'ALCOHOL_LEVEL', 'MALIC_ACID' for this problem\n",
        "df = df[['CLASS', 'ALCOHOL_LEVEL', 'MALIC_ACID']]\n",
        "df.head()"
      ],
      "metadata": {
        "colab": {
          "base_uri": "https://localhost:8080/",
          "height": 206
        },
        "id": "v7uu3X4QZmwh",
        "outputId": "eefac96a-f947-4d09-e218-4b22813f6084"
      },
      "execution_count": 6,
      "outputs": [
        {
          "output_type": "execute_result",
          "data": {
            "text/plain": [
              "   CLASS  ALCOHOL_LEVEL  MALIC_ACID\n",
              "0      1          14.23        1.71\n",
              "1      1          13.20        1.78\n",
              "2      1          13.16        2.36\n",
              "3      1          14.37        1.95\n",
              "4      1          13.24        2.59"
            ],
            "text/html": [
              "\n",
              "  <div id=\"df-8767691b-8ce4-4993-9cb6-cce63e5d2e15\">\n",
              "    <div class=\"colab-df-container\">\n",
              "      <div>\n",
              "<style scoped>\n",
              "    .dataframe tbody tr th:only-of-type {\n",
              "        vertical-align: middle;\n",
              "    }\n",
              "\n",
              "    .dataframe tbody tr th {\n",
              "        vertical-align: top;\n",
              "    }\n",
              "\n",
              "    .dataframe thead th {\n",
              "        text-align: right;\n",
              "    }\n",
              "</style>\n",
              "<table border=\"1\" class=\"dataframe\">\n",
              "  <thead>\n",
              "    <tr style=\"text-align: right;\">\n",
              "      <th></th>\n",
              "      <th>CLASS</th>\n",
              "      <th>ALCOHOL_LEVEL</th>\n",
              "      <th>MALIC_ACID</th>\n",
              "    </tr>\n",
              "  </thead>\n",
              "  <tbody>\n",
              "    <tr>\n",
              "      <th>0</th>\n",
              "      <td>1</td>\n",
              "      <td>14.23</td>\n",
              "      <td>1.71</td>\n",
              "    </tr>\n",
              "    <tr>\n",
              "      <th>1</th>\n",
              "      <td>1</td>\n",
              "      <td>13.20</td>\n",
              "      <td>1.78</td>\n",
              "    </tr>\n",
              "    <tr>\n",
              "      <th>2</th>\n",
              "      <td>1</td>\n",
              "      <td>13.16</td>\n",
              "      <td>2.36</td>\n",
              "    </tr>\n",
              "    <tr>\n",
              "      <th>3</th>\n",
              "      <td>1</td>\n",
              "      <td>14.37</td>\n",
              "      <td>1.95</td>\n",
              "    </tr>\n",
              "    <tr>\n",
              "      <th>4</th>\n",
              "      <td>1</td>\n",
              "      <td>13.24</td>\n",
              "      <td>2.59</td>\n",
              "    </tr>\n",
              "  </tbody>\n",
              "</table>\n",
              "</div>\n",
              "      <button class=\"colab-df-convert\" onclick=\"convertToInteractive('df-8767691b-8ce4-4993-9cb6-cce63e5d2e15')\"\n",
              "              title=\"Convert this dataframe to an interactive table.\"\n",
              "              style=\"display:none;\">\n",
              "        \n",
              "  <svg xmlns=\"http://www.w3.org/2000/svg\" height=\"24px\"viewBox=\"0 0 24 24\"\n",
              "       width=\"24px\">\n",
              "    <path d=\"M0 0h24v24H0V0z\" fill=\"none\"/>\n",
              "    <path d=\"M18.56 5.44l.94 2.06.94-2.06 2.06-.94-2.06-.94-.94-2.06-.94 2.06-2.06.94zm-11 1L8.5 8.5l.94-2.06 2.06-.94-2.06-.94L8.5 2.5l-.94 2.06-2.06.94zm10 10l.94 2.06.94-2.06 2.06-.94-2.06-.94-.94-2.06-.94 2.06-2.06.94z\"/><path d=\"M17.41 7.96l-1.37-1.37c-.4-.4-.92-.59-1.43-.59-.52 0-1.04.2-1.43.59L10.3 9.45l-7.72 7.72c-.78.78-.78 2.05 0 2.83L4 21.41c.39.39.9.59 1.41.59.51 0 1.02-.2 1.41-.59l7.78-7.78 2.81-2.81c.8-.78.8-2.07 0-2.86zM5.41 20L4 18.59l7.72-7.72 1.47 1.35L5.41 20z\"/>\n",
              "  </svg>\n",
              "      </button>\n",
              "      \n",
              "  <style>\n",
              "    .colab-df-container {\n",
              "      display:flex;\n",
              "      flex-wrap:wrap;\n",
              "      gap: 12px;\n",
              "    }\n",
              "\n",
              "    .colab-df-convert {\n",
              "      background-color: #E8F0FE;\n",
              "      border: none;\n",
              "      border-radius: 50%;\n",
              "      cursor: pointer;\n",
              "      display: none;\n",
              "      fill: #1967D2;\n",
              "      height: 32px;\n",
              "      padding: 0 0 0 0;\n",
              "      width: 32px;\n",
              "    }\n",
              "\n",
              "    .colab-df-convert:hover {\n",
              "      background-color: #E2EBFA;\n",
              "      box-shadow: 0px 1px 2px rgba(60, 64, 67, 0.3), 0px 1px 3px 1px rgba(60, 64, 67, 0.15);\n",
              "      fill: #174EA6;\n",
              "    }\n",
              "\n",
              "    [theme=dark] .colab-df-convert {\n",
              "      background-color: #3B4455;\n",
              "      fill: #D2E3FC;\n",
              "    }\n",
              "\n",
              "    [theme=dark] .colab-df-convert:hover {\n",
              "      background-color: #434B5C;\n",
              "      box-shadow: 0px 1px 3px 1px rgba(0, 0, 0, 0.15);\n",
              "      filter: drop-shadow(0px 1px 2px rgba(0, 0, 0, 0.3));\n",
              "      fill: #FFFFFF;\n",
              "    }\n",
              "  </style>\n",
              "\n",
              "      <script>\n",
              "        const buttonEl =\n",
              "          document.querySelector('#df-8767691b-8ce4-4993-9cb6-cce63e5d2e15 button.colab-df-convert');\n",
              "        buttonEl.style.display =\n",
              "          google.colab.kernel.accessAllowed ? 'block' : 'none';\n",
              "\n",
              "        async function convertToInteractive(key) {\n",
              "          const element = document.querySelector('#df-8767691b-8ce4-4993-9cb6-cce63e5d2e15');\n",
              "          const dataTable =\n",
              "            await google.colab.kernel.invokeFunction('convertToInteractive',\n",
              "                                                     [key], {});\n",
              "          if (!dataTable) return;\n",
              "\n",
              "          const docLinkHtml = 'Like what you see? Visit the ' +\n",
              "            '<a target=\"_blank\" href=https://colab.research.google.com/notebooks/data_table.ipynb>data table notebook</a>'\n",
              "            + ' to learn more about interactive tables.';\n",
              "          element.innerHTML = '';\n",
              "          dataTable['output_type'] = 'display_data';\n",
              "          await google.colab.output.renderOutput(dataTable, element);\n",
              "          const docLink = document.createElement('div');\n",
              "          docLink.innerHTML = docLinkHtml;\n",
              "          element.appendChild(docLink);\n",
              "        }\n",
              "      </script>\n",
              "    </div>\n",
              "  </div>\n",
              "  "
            ]
          },
          "metadata": {},
          "execution_count": 6
        }
      ]
    },
    {
      "cell_type": "code",
      "source": [
        "class KNN:\n",
        "    def __init__(self, K):\n",
        "        self.K = K\n",
        "        self.X_train = None\n",
        "        self.y_train = None\n",
        "        \n",
        "    def fit(self, X_train, y_train):\n",
        "        self.X_train = X_train\n",
        "        self.y_train = y_train\n",
        "    \n",
        "    def predict_instance(self, test_instance):\n",
        "        inputs = self.X_train.copy()\n",
        "        # calculate L2 norm between all training points and given test_point\n",
        "        inputs['distance'] = np.linalg.norm(inputs.values-test_instance.values, axis=1)\n",
        "        \n",
        "        # concatenate inputs and labels before sorting the distances\n",
        "        inputs = pd.concat([inputs, self.y_train], axis=1)\n",
        "\n",
        "        # sort based on distance\n",
        "        inputs = inputs.sort_values('distance', ascending=True)\n",
        "\n",
        "        # pick k neighbors\n",
        "        neighbors = inputs.head(self.K)\n",
        "\n",
        "        # get list from dataframe column\n",
        "        classes = neighbors['CLASS'].tolist()\n",
        "\n",
        "        # create counter of labels\n",
        "        majority_count = Counter(classes)\n",
        "        \n",
        "        return majority_count.most_common(1).pop()[0]\n",
        "        \n",
        "        \n",
        "    def predict(self, X_test):\n",
        "        predictions = np.zeros(X_test.shape[0])\n",
        "        # we want out index to be start from 0\n",
        "        X_test.reset_index(drop=True, inplace=True)\n",
        "        for index, row in X_test.iterrows():\n",
        "            predictions[index] = self.predict_instance(row)\n",
        "        return predictions\n",
        "\n",
        "def cross_validation(n, k, data, n_neighbors):\n",
        "    \"\"\"\n",
        "    n : # iterations\n",
        "    k : k-fold size\n",
        "    data: training data\n",
        "    n_neighbors: k in knn\n",
        "    \"\"\"\n",
        "    accuracies = []\n",
        "    \n",
        "    for _ in range(0, n):\n",
        "        # data shuffle\n",
        "        data.sample(frac=1)\n",
        "        \n",
        "        fold=int(data.shape[0]/k)\n",
        "        \n",
        "        for j in range(k):\n",
        "            test = data[j*fold:j*fold+fold]\n",
        "            train = data[~data.index.isin(test.index)]\n",
        "            X_train, y_train = train.drop('CLASS', axis=1), train['CLASS']\n",
        "            X_test, y_test = test.drop('CLASS', axis=1), test['CLASS']\n",
        "            \n",
        "            knn = KNN(n_neighbors)\n",
        "            knn.fit(X_train, y_train)\n",
        "            \n",
        "            predictions = knn.predict(X_test)\n",
        "            true_values = y_test.to_numpy()\n",
        "            accuracy = np.mean(predictions == true_values)\n",
        "            \n",
        "            accuracies.append(accuracy)\n",
        "    return np.array(accuracies).mean()"
      ],
      "metadata": {
        "id": "Qk1852eIZmuN"
      },
      "execution_count": 7,
      "outputs": []
    },
    {
      "cell_type": "code",
      "source": [
        "k_values = np.arange(1, 16)\n",
        "cross_validation_fold = 10\n",
        "accuracies = []"
      ],
      "metadata": {
        "id": "er-o7R64Zmr6"
      },
      "execution_count": 8,
      "outputs": []
    },
    {
      "cell_type": "code",
      "source": [
        "for k in k_values:\n",
        "    # run cross-validation with given neighbor size k\n",
        "    accuracy = cross_validation(1, cross_validation_fold, df, k)\n",
        "    accuracies.append(accuracy)\n",
        "print(accuracies)"
      ],
      "metadata": {
        "colab": {
          "base_uri": "https://localhost:8080/"
        },
        "id": "tl3SS_iMZmpj",
        "outputId": "85160f57-be6f-4397-85ee-ee815e57c285"
      },
      "execution_count": 9,
      "outputs": [
        {
          "output_type": "stream",
          "name": "stdout",
          "text": [
            "[0.6411764705882353, 0.6411764705882353, 0.7352941176470589, 0.7588235294117647, 0.7705882352941177, 0.7588235294117647, 0.7588235294117646, 0.7529411764705881, 0.7705882352941177, 0.7705882352941177, 0.7705882352941176, 0.776470588235294, 0.7764705882352941, 0.7588235294117647, 0.7529411764705881]\n"
          ]
        }
      ]
    },
    {
      "cell_type": "code",
      "source": [
        "fig = plt.figure()\n",
        "plt.plot(k_values, accuracies)\n",
        "plt.xlabel('k in kNN')\n",
        "plt.ylabel('CV-Accuracy')\n",
        "fig.suptitle('kNN hyperparameter (k) tuning with python alone', fontsize=20)"
      ],
      "metadata": {
        "colab": {
          "base_uri": "https://localhost:8080/",
          "height": 326
        },
        "id": "9T6f_cpgZmnT",
        "outputId": "33ef71dc-fabf-47b8-f2a8-aee5d65fdaeb"
      },
      "execution_count": 10,
      "outputs": [
        {
          "output_type": "execute_result",
          "data": {
            "text/plain": [
              "Text(0.5, 0.98, 'kNN hyperparameter (k) tuning with python alone')"
            ]
          },
          "metadata": {},
          "execution_count": 10
        },
        {
          "output_type": "display_data",
          "data": {
            "text/plain": [
              "<Figure size 432x288 with 1 Axes>"
            ],
            "image/png": "[encoded data removed]"
          },
          "metadata": {
            "needs_background": "light"
          }
        }
      ]
    },
    {
      "cell_type": "markdown",
      "source": [
        "#finding Optimal Values for K"
      ],
      "metadata": {
        "id": "-0qOFapZZ2g9"
      }
    },
    {
      "cell_type": "code",
      "source": [
        "from sklearn.neighbors import KNeighborsClassifier\n",
        "from sklearn.model_selection import cross_val_score"
      ],
      "metadata": {
        "id": "awjhs8QUZmk2"
      },
      "execution_count": 11,
      "outputs": []
    },
    {
      "cell_type": "code",
      "source": [
        "X, y = df.drop('CLASS', axis=1), df['CLASS']\n",
        "accuracies = []\n",
        "for k in k_values:\n",
        "    # instantiate kNN with given neighbor size k\n",
        "    knn = KNeighborsClassifier(n_neighbors=k)\n",
        "    # run cross validation for a given kNN setup\n",
        "    # I have setup n_jobs=-1 to use all cpus in my env.\n",
        "    scores = cross_val_score(knn, X, y, cv=cross_validation_fold, scoring='accuracy', n_jobs=-1)\n",
        "    accuracies.append(scores.mean())\n",
        "print(accuracies)"
      ],
      "metadata": {
        "colab": {
          "base_uri": "https://localhost:8080/"
        },
        "id": "w04BDDi9Zmhv",
        "outputId": "1f1a6179-3896-4998-9d15-8395bf1e7d01"
      },
      "execution_count": 12,
      "outputs": [
        {
          "output_type": "stream",
          "name": "stdout",
          "text": [
            "[0.7405228758169934, 0.696078431372549, 0.7797385620915033, 0.7686274509803922, 0.7803921568627451, 0.7980392156862746, 0.7970588235294118, 0.7970588235294118, 0.7977124183006536, 0.7973856209150327, 0.8035947712418301, 0.8035947712418301, 0.8094771241830065, 0.8032679738562092, 0.8091503267973856]\n"
          ]
        }
      ]
    },
    {
      "cell_type": "code",
      "source": [
        "fig2 = plt.figure()\n",
        "plt.plot(k_values, accuracies)\n",
        "plt.xlabel('k in kNN')\n",
        "plt.ylabel('CV-Accuracy')\n",
        "fig2.suptitle('kNN hyperparameter (k) tuning with sklearn', fontsize=20)"
      ],
      "metadata": {
        "colab": {
          "base_uri": "https://localhost:8080/",
          "height": 326
        },
        "id": "R9vJ8A52Zme7",
        "outputId": "f66c60ca-f4c2-4fd4-a323-bdce3f2bd50b"
      },
      "execution_count": 13,
      "outputs": [
        {
          "output_type": "execute_result",
          "data": {
            "text/plain": [
              "Text(0.5, 0.98, 'kNN hyperparameter (k) tuning with sklearn')"
            ]
          },
          "metadata": {},
          "execution_count": 13
        },
        {
          "output_type": "display_data",
          "data": {
            "text/plain": [
              "<Figure size 432x288 with 1 Axes>"
            ],
            "image/png": "[encoded data removed]"
          },
          "metadata": {
            "needs_background": "light"
          }
        }
      ]
    },
    {
      "cell_type": "markdown",
      "source": [
        "#Tune many hyperparameters together using sklearn GridSearchCV API"
      ],
      "metadata": {
        "id": "F_MN0qrIaBn1"
      }
    },
    {
      "cell_type": "code",
      "source": [
        "from sklearn.model_selection import GridSearchCV"
      ],
      "metadata": {
        "id": "usDQpDMIaKSh"
      },
      "execution_count": 16,
      "outputs": []
    },
    {
      "cell_type": "code",
      "source": [
        "metrics = ['euclidean','manhattan'] \n",
        "neighbors = np.arange(1, 16)\n",
        "param_grid  = dict(metric=metrics, n_neighbors=neighbors)\n",
        "param_grid"
      ],
      "metadata": {
        "colab": {
          "base_uri": "https://localhost:8080/"
        },
        "id": "3qyvjYoJZmcd",
        "outputId": "065552fd-061f-462b-a707-de644cc40189"
      },
      "execution_count": 14,
      "outputs": [
        {
          "output_type": "execute_result",
          "data": {
            "text/plain": [
              "{'metric': ['euclidean', 'manhattan'],\n",
              " 'n_neighbors': array([ 1,  2,  3,  4,  5,  6,  7,  8,  9, 10, 11, 12, 13, 14, 15])}"
            ]
          },
          "metadata": {},
          "execution_count": 14
        }
      ]
    },
    {
      "cell_type": "code",
      "source": [
        "# here 10-fold cross-validation is being executed for all the combinations\n",
        "# total combinations will be : 15*2 = 30\n",
        "# so in total 30 10-fold cross validatin will be run\n",
        "knn = KNeighborsClassifier()\n",
        "# when refit=True, it will fits the best hyperparameters to all training data\n",
        "# and also allow to use GridSearchCV object as an estimator for prediction\n",
        "grid_search = GridSearchCV(knn, param_grid, cv=cross_validation_fold, scoring='accuracy', refit=True)\n",
        "grid_search.fit(X, y)"
      ],
      "metadata": {
        "colab": {
          "base_uri": "https://localhost:8080/"
        },
        "id": "dsLuizMaJFBs",
        "outputId": "cca32532-7f97-42cf-a18f-8b875ab11aca"
      },
      "execution_count": 17,
      "outputs": [
        {
          "output_type": "execute_result",
          "data": {
            "text/plain": [
              "GridSearchCV(cv=10, estimator=KNeighborsClassifier(),\n",
              "             param_grid={'metric': ['euclidean', 'manhattan'],\n",
              "                         'n_neighbors': array([ 1,  2,  3,  4,  5,  6,  7,  8,  9, 10, 11, 12, 13, 14, 15])},\n",
              "             scoring='accuracy')"
            ]
          },
          "metadata": {},
          "execution_count": 17
        }
      ]
    },
    {
      "cell_type": "code",
      "source": [
        "cross_val_df = pd.DataFrame(grid_search.cv_results_)\n",
        "cross_val_df.head()"
      ],
      "metadata": {
        "colab": {
          "base_uri": "https://localhost:8080/",
          "height": 531
        },
        "id": "kNoRny0RaHAa",
        "outputId": "0d9683f8-4acd-4312-8898-1cc2baf8cb56"
      },
      "execution_count": 18,
      "outputs": [
        {
          "output_type": "execute_result",
          "data": {
            "text/plain": [
              "   mean_fit_time  std_fit_time  mean_score_time  std_score_time param_metric  \\\n",
              "0       0.010539      0.006909         0.008803        0.005861    euclidean   \n",
              "1       0.004828      0.003597         0.006682        0.004512    euclidean   \n",
              "2       0.002006      0.000140         0.002564        0.000260    euclidean   \n",
              "3       0.002086      0.000617         0.002518        0.000238    euclidean   \n",
              "4       0.002272      0.000305         0.002905        0.000662    euclidean   \n",
              "\n",
              "  param_n_neighbors                                     params  \\\n",
              "0                 1  {'metric': 'euclidean', 'n_neighbors': 1}   \n",
              "1                 2  {'metric': 'euclidean', 'n_neighbors': 2}   \n",
              "2                 3  {'metric': 'euclidean', 'n_neighbors': 3}   \n",
              "3                 4  {'metric': 'euclidean', 'n_neighbors': 4}   \n",
              "4                 5  {'metric': 'euclidean', 'n_neighbors': 5}   \n",
              "\n",
              "   split0_test_score  split1_test_score  split2_test_score  split3_test_score  \\\n",
              "0           0.722222           0.722222           0.777778           0.666667   \n",
              "1           0.666667           0.666667           0.722222           0.666667   \n",
              "2           0.722222           0.777778           0.833333           0.722222   \n",
              "3           0.722222           0.666667           0.777778           0.722222   \n",
              "4           0.722222           0.722222           0.833333           0.722222   \n",
              "\n",
              "   split4_test_score  split5_test_score  split6_test_score  split7_test_score  \\\n",
              "0           0.777778           0.833333           0.777778           0.833333   \n",
              "1           0.722222           0.777778           0.611111           0.833333   \n",
              "2           0.833333           0.888889           0.833333           0.833333   \n",
              "3           0.888889           0.833333           0.888889           0.833333   \n",
              "4           0.888889           0.888889           0.777778           0.777778   \n",
              "\n",
              "   split8_test_score  split9_test_score  mean_test_score  std_test_score  \\\n",
              "0           0.823529           0.470588         0.740523        0.103572   \n",
              "1           0.764706           0.529412         0.696078        0.083176   \n",
              "2           0.764706           0.588235         0.779739        0.081806   \n",
              "3           0.823529           0.529412         0.768627        0.105983   \n",
              "4           0.764706           0.705882         0.780392        0.065045   \n",
              "\n",
              "   rank_test_score  \n",
              "0               28  \n",
              "1               30  \n",
              "2               21  \n",
              "3               26  \n",
              "4               20  "
            ],
            "text/html": [
              "\n",
              "  <div id=\"df-8df32edb-7b9b-4e45-9e49-69aab385a598\">\n",
              "    <div class=\"colab-df-container\">\n",
              "      <div>\n",
              "<style scoped>\n",
              "    .dataframe tbody tr th:only-of-type {\n",
              "        vertical-align: middle;\n",
              "    }\n",
              "\n",
              "    .dataframe tbody tr th {\n",
              "        vertical-align: top;\n",
              "    }\n",
              "\n",
              "    .dataframe thead th {\n",
              "        text-align: right;\n",
              "    }\n",
              "</style>\n",
              "<table border=\"1\" class=\"dataframe\">\n",
              "  <thead>\n",
              "    <tr style=\"text-align: right;\">\n",
              "      <th></th>\n",
              "      <th>mean_fit_time</th>\n",
              "      <th>std_fit_time</th>\n",
              "      <th>mean_score_time</th>\n",
              "      <th>std_score_time</th>\n",
              "      <th>param_metric</th>\n",
              "      <th>param_n_neighbors</th>\n",
              "      <th>params</th>\n",
              "      <th>split0_test_score</th>\n",
              "      <th>split1_test_score</th>\n",
              "      <th>split2_test_score</th>\n",
              "      <th>split3_test_score</th>\n",
              "      <th>split4_test_score</th>\n",
              "      <th>split5_test_score</th>\n",
              "      <th>split6_test_score</th>\n",
              "      <th>split7_test_score</th>\n",
              "      <th>split8_test_score</th>\n",
              "      <th>split9_test_score</th>\n",
              "      <th>mean_test_score</th>\n",
              "      <th>std_test_score</th>\n",
              "      <th>rank_test_score</th>\n",
              "    </tr>\n",
              "  </thead>\n",
              "  <tbody>\n",
              "    <tr>\n",
              "      <th>0</th>\n",
              "      <td>0.010539</td>\n",
              "      <td>0.006909</td>\n",
              "      <td>0.008803</td>\n",
              "      <td>0.005861</td>\n",
              "      <td>euclidean</td>\n",
              "      <td>1</td>\n",
              "      <td>{'metric': 'euclidean', 'n_neighbors': 1}</td>\n",
              "      <td>0.722222</td>\n",
              "      <td>0.722222</td>\n",
              "      <td>0.777778</td>\n",
              "      <td>0.666667</td>\n",
              "      <td>0.777778</td>\n",
              "      <td>0.833333</td>\n",
              "      <td>0.777778</td>\n",
              "      <td>0.833333</td>\n",
              "      <td>0.823529</td>\n",
              "      <td>0.470588</td>\n",
              "      <td>0.740523</td>\n",
              "      <td>0.103572</td>\n",
              "      <td>28</td>\n",
              "    </tr>\n",
              "    <tr>\n",
              "      <th>1</th>\n",
              "      <td>0.004828</td>\n",
              "      <td>0.003597</td>\n",
              "      <td>0.006682</td>\n",
              "      <td>0.004512</td>\n",
              "      <td>euclidean</td>\n",
              "      <td>2</td>\n",
              "      <td>{'metric': 'euclidean', 'n_neighbors': 2}</td>\n",
              "      <td>0.666667</td>\n",
              "      <td>0.666667</td>\n",
              "      <td>0.722222</td>\n",
              "      <td>0.666667</td>\n",
              "      <td>0.722222</td>\n",
              "      <td>0.777778</td>\n",
              "      <td>0.611111</td>\n",
              "      <td>0.833333</td>\n",
              "      <td>0.764706</td>\n",
              "      <td>0.529412</td>\n",
              "      <td>0.696078</td>\n",
              "      <td>0.083176</td>\n",
              "      <td>30</td>\n",
              "    </tr>\n",
              "    <tr>\n",
              "      <th>2</th>\n",
              "      <td>0.002006</td>\n",
              "      <td>0.000140</td>\n",
              "      <td>0.002564</td>\n",
              "      <td>0.000260</td>\n",
              "      <td>euclidean</td>\n",
              "      <td>3</td>\n",
              "      <td>{'metric': 'euclidean', 'n_neighbors': 3}</td>\n",
              "      <td>0.722222</td>\n",
              "      <td>0.777778</td>\n",
              "      <td>0.833333</td>\n",
              "      <td>0.722222</td>\n",
              "      <td>0.833333</td>\n",
              "      <td>0.888889</td>\n",
              "      <td>0.833333</td>\n",
              "      <td>0.833333</td>\n",
              "      <td>0.764706</td>\n",
              "      <td>0.588235</td>\n",
              "      <td>0.779739</td>\n",
              "      <td>0.081806</td>\n",
              "      <td>21</td>\n",
              "    </tr>\n",
              "    <tr>\n",
              "      <th>3</th>\n",
              "      <td>0.002086</td>\n",
              "      <td>0.000617</td>\n",
              "      <td>0.002518</td>\n",
              "      <td>0.000238</td>\n",
              "      <td>euclidean</td>\n",
              "      <td>4</td>\n",
              "      <td>{'metric': 'euclidean', 'n_neighbors': 4}</td>\n",
              "      <td>0.722222</td>\n",
              "      <td>0.666667</td>\n",
              "      <td>0.777778</td>\n",
              "      <td>0.722222</td>\n",
              "      <td>0.888889</td>\n",
              "      <td>0.833333</td>\n",
              "      <td>0.888889</td>\n",
              "      <td>0.833333</td>\n",
              "      <td>0.823529</td>\n",
              "      <td>0.529412</td>\n",
              "      <td>0.768627</td>\n",
              "      <td>0.105983</td>\n",
              "      <td>26</td>\n",
              "    </tr>\n",
              "    <tr>\n",
              "      <th>4</th>\n",
              "      <td>0.002272</td>\n",
              "      <td>0.000305</td>\n",
              "      <td>0.002905</td>\n",
              "      <td>0.000662</td>\n",
              "      <td>euclidean</td>\n",
              "      <td>5</td>\n",
              "      <td>{'metric': 'euclidean', 'n_neighbors': 5}</td>\n",
              "      <td>0.722222</td>\n",
              "      <td>0.722222</td>\n",
              "      <td>0.833333</td>\n",
              "      <td>0.722222</td>\n",
              "      <td>0.888889</td>\n",
              "      <td>0.888889</td>\n",
              "      <td>0.777778</td>\n",
              "      <td>0.777778</td>\n",
              "      <td>0.764706</td>\n",
              "      <td>0.705882</td>\n",
              "      <td>0.780392</td>\n",
              "      <td>0.065045</td>\n",
              "      <td>20</td>\n",
              "    </tr>\n",
              "  </tbody>\n",
              "</table>\n",
              "</div>\n",
              "      <button class=\"colab-df-convert\" onclick=\"convertToInteractive('df-8df32edb-7b9b-4e45-9e49-69aab385a598')\"\n",
              "              title=\"Convert this dataframe to an interactive table.\"\n",
              "              style=\"display:none;\">\n",
              "        \n",
              "  <svg xmlns=\"http://www.w3.org/2000/svg\" height=\"24px\"viewBox=\"0 0 24 24\"\n",
              "       width=\"24px\">\n",
              "    <path d=\"M0 0h24v24H0V0z\" fill=\"none\"/>\n",
              "    <path d=\"M18.56 5.44l.94 2.06.94-2.06 2.06-.94-2.06-.94-.94-2.06-.94 2.06-2.06.94zm-11 1L8.5 8.5l.94-2.06 2.06-.94-2.06-.94L8.5 2.5l-.94 2.06-2.06.94zm10 10l.94 2.06.94-2.06 2.06-.94-2.06-.94-.94-2.06-.94 2.06-2.06.94z\"/><path d=\"M17.41 7.96l-1.37-1.37c-.4-.4-.92-.59-1.43-.59-.52 0-1.04.2-1.43.59L10.3 9.45l-7.72 7.72c-.78.78-.78 2.05 0 2.83L4 21.41c.39.39.9.59 1.41.59.51 0 1.02-.2 1.41-.59l7.78-7.78 2.81-2.81c.8-.78.8-2.07 0-2.86zM5.41 20L4 18.59l7.72-7.72 1.47 1.35L5.41 20z\"/>\n",
              "  </svg>\n",
              "      </button>\n",
              "      \n",
              "  <style>\n",
              "    .colab-df-container {\n",
              "      display:flex;\n",
              "      flex-wrap:wrap;\n",
              "      gap: 12px;\n",
              "    }\n",
              "\n",
              "    .colab-df-convert {\n",
              "      background-color: #E8F0FE;\n",
              "      border: none;\n",
              "      border-radius: 50%;\n",
              "      cursor: pointer;\n",
              "      display: none;\n",
              "      fill: #1967D2;\n",
              "      height: 32px;\n",
              "      padding: 0 0 0 0;\n",
              "      width: 32px;\n",
              "    }\n",
              "\n",
              "    .colab-df-convert:hover {\n",
              "      background-color: #E2EBFA;\n",
              "      box-shadow: 0px 1px 2px rgba(60, 64, 67, 0.3), 0px 1px 3px 1px rgba(60, 64, 67, 0.15);\n",
              "      fill: #174EA6;\n",
              "    }\n",
              "\n",
              "    [theme=dark] .colab-df-convert {\n",
              "      background-color: #3B4455;\n",
              "      fill: #D2E3FC;\n",
              "    }\n",
              "\n",
              "    [theme=dark] .colab-df-convert:hover {\n",
              "      background-color: #434B5C;\n",
              "      box-shadow: 0px 1px 3px 1px rgba(0, 0, 0, 0.15);\n",
              "      filter: drop-shadow(0px 1px 2px rgba(0, 0, 0, 0.3));\n",
              "      fill: #FFFFFF;\n",
              "    }\n",
              "  </style>\n",
              "\n",
              "      <script>\n",
              "        const buttonEl =\n",
              "          document.querySelector('#df-8df32edb-7b9b-4e45-9e49-69aab385a598 button.colab-df-convert');\n",
              "        buttonEl.style.display =\n",
              "          google.colab.kernel.accessAllowed ? 'block' : 'none';\n",
              "\n",
              "        async function convertToInteractive(key) {\n",
              "          const element = document.querySelector('#df-8df32edb-7b9b-4e45-9e49-69aab385a598');\n",
              "          const dataTable =\n",
              "            await google.colab.kernel.invokeFunction('convertToInteractive',\n",
              "                                                     [key], {});\n",
              "          if (!dataTable) return;\n",
              "\n",
              "          const docLinkHtml = 'Like what you see? Visit the ' +\n",
              "            '<a target=\"_blank\" href=https://colab.research.google.com/notebooks/data_table.ipynb>data table notebook</a>'\n",
              "            + ' to learn more about interactive tables.';\n",
              "          element.innerHTML = '';\n",
              "          dataTable['output_type'] = 'display_data';\n",
              "          await google.colab.output.renderOutput(dataTable, element);\n",
              "          const docLink = document.createElement('div');\n",
              "          docLink.innerHTML = docLinkHtml;\n",
              "          element.appendChild(docLink);\n",
              "        }\n",
              "      </script>\n",
              "    </div>\n",
              "  </div>\n",
              "  "
            ]
          },
          "metadata": {},
          "execution_count": 18
        }
      ]
    },
    {
      "cell_type": "code",
      "source": [
        "# since for both metric (manhatton/euclidean), we will have test score\n",
        "# let's use euclidean for this case\n",
        "accuracies = cross_val_df[cross_val_df[\"param_metric\"]=='euclidean'][\"mean_test_score\"]\n",
        "accuracies"
      ],
      "metadata": {
        "colab": {
          "base_uri": "https://localhost:8080/"
        },
        "id": "h80_hAkkaG8e",
        "outputId": "d8203b27-8486-4c5b-8181-01dd8070c398"
      },
      "execution_count": 19,
      "outputs": [
        {
          "output_type": "execute_result",
          "data": {
            "text/plain": [
              "0     0.740523\n",
              "1     0.696078\n",
              "2     0.779739\n",
              "3     0.768627\n",
              "4     0.780392\n",
              "5     0.798039\n",
              "6     0.797059\n",
              "7     0.797059\n",
              "8     0.797712\n",
              "9     0.797386\n",
              "10    0.803595\n",
              "11    0.803595\n",
              "12    0.809477\n",
              "13    0.803268\n",
              "14    0.809150\n",
              "Name: mean_test_score, dtype: float64"
            ]
          },
          "metadata": {},
          "execution_count": 19
        }
      ]
    },
    {
      "cell_type": "code",
      "source": [
        "fig3 = plt.figure()\n",
        "plt.plot(k_values, accuracies)\n",
        "plt.xlabel('k in kNN')\n",
        "plt.ylabel('CV-Accuracy')\n",
        "fig3.suptitle('kNN hyperparameter (k) tuning with GridSearchCV', fontsize=20)"
      ],
      "metadata": {
        "colab": {
          "base_uri": "https://localhost:8080/",
          "height": 326
        },
        "id": "G3GHxNJFaG59",
        "outputId": "013d6d61-5e70-48a7-f2c8-04e958acf02d"
      },
      "execution_count": 20,
      "outputs": [
        {
          "output_type": "execute_result",
          "data": {
            "text/plain": [
              "Text(0.5, 0.98, 'kNN hyperparameter (k) tuning with GridSearchCV')"
            ]
          },
          "metadata": {},
          "execution_count": 20
        },
        {
          "output_type": "display_data",
          "data": {
            "text/plain": [
              "<Figure size 432x288 with 1 Axes>"
            ],
            "image/png": "[encoded data removed]"
          },
          "metadata": {
            "needs_background": "light"
          }
        }
      ]
    },
    {
      "cell_type": "code",
      "source": [
        "from sklearn.model_selection import train_test_split"
      ],
      "metadata": {
        "id": "RIF9aTYkJFEQ"
      },
      "execution_count": 21,
      "outputs": []
    },
    {
      "cell_type": "code",
      "source": [
        "X_train, X_test, y_train, y_test = train_test_split(\n",
        "    X, y, test_size=0.5, random_state=0)"
      ],
      "metadata": {
        "id": "qDi7whEfalhh"
      },
      "execution_count": 22,
      "outputs": []
    },
    {
      "cell_type": "code",
      "source": [
        "# TRAINING PHASE\n",
        "knn = KNeighborsClassifier()\n",
        "grid_search = GridSearchCV(knn, param_grid, cv=cross_validation_fold, scoring='accuracy', refit=True)\n",
        "grid_search.fit(X_train, y_train)"
      ],
      "metadata": {
        "colab": {
          "base_uri": "https://localhost:8080/"
        },
        "id": "cfcNjyyKalfJ",
        "outputId": "87dbe03b-179d-4daf-efde-af6cf48bba69"
      },
      "execution_count": 23,
      "outputs": [
        {
          "output_type": "execute_result",
          "data": {
            "text/plain": [
              "GridSearchCV(cv=10, estimator=KNeighborsClassifier(),\n",
              "             param_grid={'metric': ['euclidean', 'manhattan'],\n",
              "                         'n_neighbors': array([ 1,  2,  3,  4,  5,  6,  7,  8,  9, 10, 11, 12, 13, 14, 15])},\n",
              "             scoring='accuracy')"
            ]
          },
          "metadata": {},
          "execution_count": 23
        }
      ]
    },
    {
      "cell_type": "code",
      "source": [
        "# since refit=True,we can directly use grid_search object above as our final best model or you can do as follow:\n",
        "optimal_knn = grid_search.best_estimator_\n",
        "optimal_knn"
      ],
      "metadata": {
        "colab": {
          "base_uri": "https://localhost:8080/"
        },
        "id": "VeO-W83RalcY",
        "outputId": "b49e4065-c288-4009-8815-9a96aaf8a2e3"
      },
      "execution_count": 24,
      "outputs": [
        {
          "output_type": "execute_result",
          "data": {
            "text/plain": [
              "KNeighborsClassifier(metric='euclidean', n_neighbors=6)"
            ]
          },
          "metadata": {},
          "execution_count": 24
        }
      ]
    },
    {
      "cell_type": "code",
      "source": [
        "# TESTING PHASE\n",
        "# accuracy on test data\n",
        "optimal_knn.score(X_test, y_test)"
      ],
      "metadata": {
        "colab": {
          "base_uri": "https://localhost:8080/"
        },
        "id": "P149OFnEalaV",
        "outputId": "4c116a19-d46a-4712-8ee5-5229652e50b4"
      },
      "execution_count": 25,
      "outputs": [
        {
          "output_type": "execute_result",
          "data": {
            "text/plain": [
              "0.7752808988764045"
            ]
          },
          "metadata": {},
          "execution_count": 25
        }
      ]
    },
    {
      "cell_type": "code",
      "source": [
        ""
      ],
      "metadata": {
        "id": "Vn6IDxspJFG8"
      },
      "execution_count": null,
      "outputs": []
    }
  ]
}