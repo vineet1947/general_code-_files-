{
  "nbformat": 4,
  "nbformat_minor": 0,
  "metadata": {
    "colab": {
      "name": "ML_02 ,Classifications.ipynb",
      "provenance": [],
      "authorship_tag": "ABX9TyOYajdVPOIaYA2PjVZXwlRZ",
      "include_colab_link": true
    },
    "kernelspec": {
      "name": "python3",
      "display_name": "Python 3"
    },
    "language_info": {
      "name": "python"
    }
  },
  "cells": [
    {
      "cell_type": "markdown",
      "metadata": {
        "id": "view-in-github",
        "colab_type": "text"
      },
      "source": [
        "<a href=\"https://colab.research.google.com/github/vineet1947/general_code-_files-/blob/main/ML_02_%2CClassifications.ipynb\" target=\"_parent\"><img src=\"https://colab.research.google.com/assets/colab-badge.svg\" alt=\"Open In Colab\"/></a>"
      ]
    },
    {
      "cell_type": "markdown",
      "source": [
        "#Classification\n",
        "\n"
      ],
      "metadata": {
        "id": "MEnla6n1jmnW"
      }
    },
    {
      "cell_type": "code",
      "source": [
        "# Import matplotlib, numpy and math\n",
        "import matplotlib.pyplot as plt\n",
        "import numpy as np\n",
        "import math\n",
        "\n",
        "x = np.linspace(-10, 10, 100)\n",
        "z = 1/(1 + np.exp(-x))\n",
        "\n",
        "plt.plot(x, z)\n",
        "plt.xlabel(\"x\")\n",
        "plt.ylabel(\"Sigmoid(X)\")\n",
        "\n",
        "plt.show()\n"
      ],
      "metadata": {
        "colab": {
          "base_uri": "https://localhost:8080/",
          "height": 279
        },
        "id": "u5VVSpVT-2Vt",
        "outputId": "233316ff-d7ba-4a5f-b74f-02be6335ede9"
      },
      "execution_count": 8,
      "outputs": [
        {
          "output_type": "display_data",
          "data": {
            "text/plain": [
              "<Figure size 432x288 with 1 Axes>"
            ],
            "image/png": "[encoded data removed]"
          },
          "metadata": {
            "needs_background": "light"
          }
        }
      ]
    },
    {
      "cell_type": "code",
      "source": [
        ""
      ],
      "metadata": {
        "id": "EUF-0T9N-2S2"
      },
      "execution_count": null,
      "outputs": []
    },
    {
      "cell_type": "code",
      "execution_count": 1,
      "metadata": {
        "id": "4VdYudg9jgGW"
      },
      "outputs": [],
      "source": [
        "import pandas as pd \n",
        "import numpy as np\n",
        "import matplotlib.pyplot as plt\n"
      ]
    },
    {
      "cell_type": "code",
      "source": [
        "url =  'https://raw.githubusercontent.com/vineet1947/data-sets-/main/dataset1.csv'"
      ],
      "metadata": {
        "id": "lm2JV8fJjl2m"
      },
      "execution_count": 2,
      "outputs": []
    },
    {
      "cell_type": "code",
      "source": [
        "data = pd.read_csv(url)"
      ],
      "metadata": {
        "id": "AxlyIUoNjl5K"
      },
      "execution_count": 3,
      "outputs": []
    },
    {
      "cell_type": "code",
      "source": [
        "data.head()"
      ],
      "metadata": {
        "id": "APd7ONqhjl9o",
        "colab": {
          "base_uri": "https://localhost:8080/",
          "height": 206
        },
        "outputId": "f3e44f78-f851-4b8d-a33f-0cda6ce982d0"
      },
      "execution_count": 4,
      "outputs": [
        {
          "output_type": "execute_result",
          "data": {
            "text/plain": [
              "   4.5192  2.6487  1.0\n",
              "0  2.4443  1.5438  1.0\n",
              "1  4.2409  1.8990  1.0\n",
              "2  5.8097  2.4711  1.0\n",
              "3  6.4423  3.3590  1.0\n",
              "4  5.8097  3.2406  1.0"
            ],
            "text/html": [
              "\n",
              "  <div id=\"df-9a7da354-455c-4124-b9e8-db6b59c4871c\">\n",
              "    <div class=\"colab-df-container\">\n",
              "      <div>\n",
              "<style scoped>\n",
              "    .dataframe tbody tr th:only-of-type {\n",
              "        vertical-align: middle;\n",
              "    }\n",
              "\n",
              "    .dataframe tbody tr th {\n",
              "        vertical-align: top;\n",
              "    }\n",
              "\n",
              "    .dataframe thead th {\n",
              "        text-align: right;\n",
              "    }\n",
              "</style>\n",
              "<table border=\"1\" class=\"dataframe\">\n",
              "  <thead>\n",
              "    <tr style=\"text-align: right;\">\n",
              "      <th></th>\n",
              "      <th>4.5192</th>\n",
              "      <th>2.6487</th>\n",
              "      <th>1.0</th>\n",
              "    </tr>\n",
              "  </thead>\n",
              "  <tbody>\n",
              "    <tr>\n",
              "      <th>0</th>\n",
              "      <td>2.4443</td>\n",
              "      <td>1.5438</td>\n",
              "      <td>1.0</td>\n",
              "    </tr>\n",
              "    <tr>\n",
              "      <th>1</th>\n",
              "      <td>4.2409</td>\n",
              "      <td>1.8990</td>\n",
              "      <td>1.0</td>\n",
              "    </tr>\n",
              "    <tr>\n",
              "      <th>2</th>\n",
              "      <td>5.8097</td>\n",
              "      <td>2.4711</td>\n",
              "      <td>1.0</td>\n",
              "    </tr>\n",
              "    <tr>\n",
              "      <th>3</th>\n",
              "      <td>6.4423</td>\n",
              "      <td>3.3590</td>\n",
              "      <td>1.0</td>\n",
              "    </tr>\n",
              "    <tr>\n",
              "      <th>4</th>\n",
              "      <td>5.8097</td>\n",
              "      <td>3.2406</td>\n",
              "      <td>1.0</td>\n",
              "    </tr>\n",
              "  </tbody>\n",
              "</table>\n",
              "</div>\n",
              "      <button class=\"colab-df-convert\" onclick=\"convertToInteractive('df-9a7da354-455c-4124-b9e8-db6b59c4871c')\"\n",
              "              title=\"Convert this dataframe to an interactive table.\"\n",
              "              style=\"display:none;\">\n",
              "        \n",
              "  <svg xmlns=\"http://www.w3.org/2000/svg\" height=\"24px\"viewBox=\"0 0 24 24\"\n",
              "       width=\"24px\">\n",
              "    <path d=\"M0 0h24v24H0V0z\" fill=\"none\"/>\n",
              "    <path d=\"M18.56 5.44l.94 2.06.94-2.06 2.06-.94-2.06-.94-.94-2.06-.94 2.06-2.06.94zm-11 1L8.5 8.5l.94-2.06 2.06-.94-2.06-.94L8.5 2.5l-.94 2.06-2.06.94zm10 10l.94 2.06.94-2.06 2.06-.94-2.06-.94-.94-2.06-.94 2.06-2.06.94z\"/><path d=\"M17.41 7.96l-1.37-1.37c-.4-.4-.92-.59-1.43-.59-.52 0-1.04.2-1.43.59L10.3 9.45l-7.72 7.72c-.78.78-.78 2.05 0 2.83L4 21.41c.39.39.9.59 1.41.59.51 0 1.02-.2 1.41-.59l7.78-7.78 2.81-2.81c.8-.78.8-2.07 0-2.86zM5.41 20L4 18.59l7.72-7.72 1.47 1.35L5.41 20z\"/>\n",
              "  </svg>\n",
              "      </button>\n",
              "      \n",
              "  <style>\n",
              "    .colab-df-container {\n",
              "      display:flex;\n",
              "      flex-wrap:wrap;\n",
              "      gap: 12px;\n",
              "    }\n",
              "\n",
              "    .colab-df-convert {\n",
              "      background-color: #E8F0FE;\n",
              "      border: none;\n",
              "      border-radius: 50%;\n",
              "      cursor: pointer;\n",
              "      display: none;\n",
              "      fill: #1967D2;\n",
              "      height: 32px;\n",
              "      padding: 0 0 0 0;\n",
              "      width: 32px;\n",
              "    }\n",
              "\n",
              "    .colab-df-convert:hover {\n",
              "      background-color: #E2EBFA;\n",
              "      box-shadow: 0px 1px 2px rgba(60, 64, 67, 0.3), 0px 1px 3px 1px rgba(60, 64, 67, 0.15);\n",
              "      fill: #174EA6;\n",
              "    }\n",
              "\n",
              "    [theme=dark] .colab-df-convert {\n",
              "      background-color: #3B4455;\n",
              "      fill: #D2E3FC;\n",
              "    }\n",
              "\n",
              "    [theme=dark] .colab-df-convert:hover {\n",
              "      background-color: #434B5C;\n",
              "      box-shadow: 0px 1px 3px 1px rgba(0, 0, 0, 0.15);\n",
              "      filter: drop-shadow(0px 1px 2px rgba(0, 0, 0, 0.3));\n",
              "      fill: #FFFFFF;\n",
              "    }\n",
              "  </style>\n",
              "\n",
              "      <script>\n",
              "        const buttonEl =\n",
              "          document.querySelector('#df-9a7da354-455c-4124-b9e8-db6b59c4871c button.colab-df-convert');\n",
              "        buttonEl.style.display =\n",
              "          google.colab.kernel.accessAllowed ? 'block' : 'none';\n",
              "\n",
              "        async function convertToInteractive(key) {\n",
              "          const element = document.querySelector('#df-9a7da354-455c-4124-b9e8-db6b59c4871c');\n",
              "          const dataTable =\n",
              "            await google.colab.kernel.invokeFunction('convertToInteractive',\n",
              "                                                     [key], {});\n",
              "          if (!dataTable) return;\n",
              "\n",
              "          const docLinkHtml = 'Like what you see? Visit the ' +\n",
              "            '<a target=\"_blank\" href=https://colab.research.google.com/notebooks/data_table.ipynb>data table notebook</a>'\n",
              "            + ' to learn more about interactive tables.';\n",
              "          element.innerHTML = '';\n",
              "          dataTable['output_type'] = 'display_data';\n",
              "          await google.colab.output.renderOutput(dataTable, element);\n",
              "          const docLink = document.createElement('div');\n",
              "          docLink.innerHTML = docLinkHtml;\n",
              "          element.appendChild(docLink);\n",
              "        }\n",
              "      </script>\n",
              "    </div>\n",
              "  </div>\n",
              "  "
            ]
          },
          "metadata": {},
          "execution_count": 4
        }
      ]
    },
    {
      "cell_type": "code",
      "source": [
        "import csv\n",
        "import numpy as np\n",
        "import matplotlib.pyplot as plt\n",
        "\n",
        "\n",
        "def loadCSV(filename):\n",
        "\t'''\n",
        "\tfunction to load dataset\n",
        "\t'''\n",
        "\twith open(filename,\"r\") as csvfile:\n",
        "\t\tlines = csv.reader(csvfile)\n",
        "\t\tdataset = list(lines)\n",
        "\t\tfor i in range(len(dataset)):\n",
        "\t\t\tdataset[i] = [float(x) for x in dataset[i]]\t\n",
        "\treturn np.array(dataset)\n",
        "\n",
        "\n",
        "def normalize(X):\n",
        "\t'''\n",
        "\tfunction to normalize feature matrix, X\n",
        "\t'''\n",
        "\tmins = np.min(X, axis = 0)\n",
        "\tmaxs = np.max(X, axis = 0)\n",
        "\trng = maxs - mins\n",
        "\tnorm_X = 1 - ((maxs - X)/rng)\n",
        "\treturn norm_X\n",
        "\n",
        "\n",
        "def logistic_func(beta, X):\n",
        "\t'''\n",
        "\tlogistic(sigmoid) function\n",
        "\t'''\n",
        "\treturn 1.0/(1 + np.exp(-np.dot(X, beta.T)))\n",
        "\n",
        "\n",
        "def log_gradient(beta, X, y):\n",
        "\t'''\n",
        "\tlogistic gradient function\n",
        "\t'''\n",
        "\tfirst_calc = logistic_func(beta, X) - y.reshape(X.shape[0], -1)\n",
        "\tfinal_calc = np.dot(first_calc.T, X)\n",
        "\treturn final_calc\n",
        "\n",
        "\n",
        "def cost_func(beta, X, y):\n",
        "\t'''\n",
        "\tcost function, J\n",
        "\t'''\n",
        "\tlog_func_v = logistic_func(beta, X)\n",
        "\ty = np.squeeze(y)\n",
        "\tstep1 = y * np.log(log_func_v)\n",
        "\tstep2 = (1 - y) * np.log(1 - log_func_v)\n",
        "\tfinal = -step1 - step2\n",
        "\treturn np.mean(final)\n",
        "\n",
        "\n",
        "def grad_desc(X, y, beta, lr=.01, converge_change=.001):\n",
        "\t'''\n",
        "\tgradient descent function\n",
        "\t'''\n",
        "\tcost = cost_func(beta, X, y)\n",
        "\tchange_cost = 1\n",
        "\tnum_iter = 1\n",
        "\t\n",
        "\twhile(change_cost > converge_change):\n",
        "\t\told_cost = cost\n",
        "\t\tbeta = beta - (lr * log_gradient(beta, X, y))\n",
        "\t\tcost = cost_func(beta, X, y)\n",
        "\t\tchange_cost = old_cost - cost\n",
        "\t\tnum_iter += 1\n",
        "\t\n",
        "\treturn beta, num_iter\n",
        "\n",
        "\n",
        "def pred_values(beta, X):\n",
        "\t'''\n",
        "\tfunction to predict labels\n",
        "\t'''\n",
        "\tpred_prob = logistic_func(beta, X)\n",
        "\tpred_value = np.where(pred_prob >= .5, 1, 0)\n",
        "\treturn np.squeeze(pred_value)\n",
        "\n",
        "\n",
        "def plot_reg(X, y, beta):\n",
        "\t'''\n",
        "\tfunction to plot decision boundary\n",
        "\t'''\n",
        "\t# labelled observations\n",
        "\tx_0 = X[np.where(y == 0.0)]\n",
        "\tx_1 = X[np.where(y == 1.0)]\n",
        "\t\n",
        "\t# plotting points with diff color for diff label\n",
        "\tplt.scatter([x_0[:, 1]], [x_0[:, 2]], c='b', label='y = 0')\n",
        "\tplt.scatter([x_1[:, 1]], [x_1[:, 2]], c='r', label='y = 1')\n",
        "\t\n",
        "\t# plotting decision boundary\n",
        "\tx1 = np.arange(0, 1, 0.1)\n",
        "\tx2 = -(beta[0,0] + beta[0,1]*x1)/beta[0,2]\n",
        "\tplt.plot(x1, x2, c='k', label='reg line')\n",
        "\n",
        "\tplt.xlabel('x1')\n",
        "\tplt.ylabel('x2')\n",
        "\tplt.legend()\n",
        "\tplt.show()\n",
        "\t\n",
        "\n",
        "\t\n",
        "if __name__ == \"__main__\":\n",
        "\t# load the dataset\n",
        "\tdataset = loadCSV('dataset1.csv')\n",
        "\t\n",
        "\t# normalizing feature matrix\n",
        "\tX = normalize(dataset[:, :-1])\n",
        "\t\n",
        "\t# stacking columns with all ones in feature matrix\n",
        "\tX = np.hstack((np.matrix(np.ones(X.shape[0])).T, X))\n",
        "\n",
        "\t# response vector\n",
        "\ty = dataset[:, -1]\n",
        "\n",
        "\t# initial beta values\n",
        "\tbeta = np.matrix(np.zeros(X.shape[1]))\n",
        "\n",
        "\t# beta values after running gradient descent\n",
        "\tbeta, num_iter = grad_desc(X, y, beta)\n",
        "\n",
        "\t# estimated beta values and number of iterations\n",
        "\tprint(\"Estimated regression coefficients:\", beta)\n",
        "\tprint(\"No. of iterations:\", num_iter)\n",
        "\n",
        "\t# predicted labels\n",
        "\ty_pred = pred_values(beta, X)\n",
        "\t\n",
        "\t# number of correctly predicted labels\n",
        "\tprint(\"Correctly predicted labels:\", np.sum(y == y_pred))\n",
        "\t\n",
        "\t# plotting regression line\n",
        "\tplot_reg(X, y, beta)\n"
      ],
      "metadata": {
        "id": "9dAUTSaWjmCO",
        "colab": {
          "base_uri": "https://localhost:8080/",
          "height": 333
        },
        "outputId": "ab69b7de-b418-4ae7-cc8a-2ff2358850a0"
      },
      "execution_count": 7,
      "outputs": [
        {
          "output_type": "stream",
          "name": "stdout",
          "text": [
            "Estimated regression coefficients: [[  1.70474504  15.04062212 -20.47216021]]\n",
            "No. of iterations: 2612\n",
            "Correctly predicted labels: 100\n"
          ]
        },
        {
          "output_type": "display_data",
          "data": {
            "text/plain": [
              "<Figure size 432x288 with 1 Axes>"
            ],
            "image/png": "[encoded data removed]"
          },
          "metadata": {
            "needs_background": "light"
          }
        }
      ]
    },
    {
      "cell_type": "markdown",
      "source": [
        "#Accuracy, Precision, Recall & F1-Score"
      ],
      "metadata": {
        "id": "SzP-EvlSfj1u"
      }
    },
    {
      "cell_type": "code",
      "source": [
        "import pandas as pd\n",
        "import numpy as np\n",
        "from sklearn import datasets\n",
        "#\n",
        "# Load the breast cancer data set\n",
        "#\n",
        "bc = datasets.load_breast_cancer()\n",
        "X = bc.data\n",
        "y = bc.target"
      ],
      "metadata": {
        "id": "KV_k-FRKjmGv"
      },
      "execution_count": 1,
      "outputs": []
    },
    {
      "cell_type": "code",
      "source": [
        "from sklearn.model_selection import train_test_split\n",
        "#\n",
        "# Create training and test split\n",
        "#\n",
        "X_train, X_test, y_train, y_test = train_test_split(X, y, test_size=0.30, random_state=1, stratify=y)"
      ],
      "metadata": {
        "id": "ZI3VBMG9jmLK"
      },
      "execution_count": 2,
      "outputs": []
    },
    {
      "cell_type": "code",
      "source": [
        "from sklearn.preprocessing import StandardScaler\n",
        "from sklearn.svm import SVC\n",
        "from sklearn.metrics import confusion_matrix\n",
        "from sklearn.metrics import precision_score, recall_score, f1_score, accuracy_score\n",
        "import matplotlib.pyplot as plt\n",
        "#\n",
        "# Standardize the data set\n",
        "#\n",
        "sc = StandardScaler()\n",
        "sc.fit(X_train)\n",
        "X_train_std = sc.transform(X_train)\n",
        "X_test_std = sc.transform(X_test)\n",
        "#\n",
        "# Fit the SVC model\n",
        "#\n",
        "svc = SVC(kernel='linear', C=10.0, random_state=1)\n",
        "svc.fit(X_train, y_train)\n",
        "#\n",
        "# Get the predictions\n",
        "#\n",
        "y_pred = svc.predict(X_test)\n",
        "#\n",
        "# Calculate the confusion matrix\n",
        "#\n",
        "conf_matrix = confusion_matrix(y_true=y_test, y_pred=y_pred)\n",
        "#\n",
        "# Print the confusion matrix using Matplotlib\n",
        "#\n",
        "fig, ax = plt.subplots(figsize=(5, 5))\n",
        "ax.matshow(conf_matrix, cmap=plt.cm.Oranges, alpha=0.3)\n",
        "for i in range(conf_matrix.shape[0]):\n",
        "    for j in range(conf_matrix.shape[1]):\n",
        "        ax.text(x=j, y=i,s=conf_matrix[i, j], va='center', ha='center', size='xx-large')\n",
        " \n",
        "plt.xlabel('Predictions', fontsize=18)\n",
        "plt.ylabel('Actuals', fontsize=18)\n",
        "plt.title('Confusion Matrix', fontsize=18)\n",
        "plt.show()"
      ],
      "metadata": {
        "id": "1cGp7QWEjmNl",
        "colab": {
          "base_uri": "https://localhost:8080/",
          "height": 358
        },
        "outputId": "58a0f6eb-4e6a-4c60-a313-54d58564baaf"
      },
      "execution_count": 3,
      "outputs": [
        {
          "output_type": "display_data",
          "data": {
            "text/plain": [
              "<Figure size 360x360 with 1 Axes>"
            ],
            "image/png": "[encoded data removed]"
          },
          "metadata": {
            "needs_background": "light"
          }
        }
      ]
    },
    {
      "cell_type": "code",
      "source": [
        "print('Precision: %.3f' % precision_score(y_test, y_pred))"
      ],
      "metadata": {
        "id": "SIz-PbJSjmQM",
        "colab": {
          "base_uri": "https://localhost:8080/"
        },
        "outputId": "b4bdd7a6-465c-424e-bb39-a9eee7cca206"
      },
      "execution_count": 4,
      "outputs": [
        {
          "output_type": "stream",
          "name": "stdout",
          "text": [
            "Precision: 0.972\n"
          ]
        }
      ]
    },
    {
      "cell_type": "code",
      "source": [
        "print('Recall: %.3f' % recall_score(y_test, y_pred))"
      ],
      "metadata": {
        "id": "FAYKBCBljmU2",
        "colab": {
          "base_uri": "https://localhost:8080/"
        },
        "outputId": "3db02c56-0373-4928-df42-748e6d0a4108"
      },
      "execution_count": 5,
      "outputs": [
        {
          "output_type": "stream",
          "name": "stdout",
          "text": [
            "Recall: 0.972\n"
          ]
        }
      ]
    },
    {
      "cell_type": "code",
      "source": [
        "print('Accuracy: %.3f' % accuracy_score(y_test, y_pred))"
      ],
      "metadata": {
        "colab": {
          "base_uri": "https://localhost:8080/"
        },
        "id": "NUoz7pMQfUGu",
        "outputId": "65ea01a0-5360-4575-ad9f-417fabfd4b2d"
      },
      "execution_count": 6,
      "outputs": [
        {
          "output_type": "stream",
          "name": "stdout",
          "text": [
            "Accuracy: 0.965\n"
          ]
        }
      ]
    },
    {
      "cell_type": "code",
      "source": [
        "print('F1 Score: %.3f' % f1_score(y_test, y_pred))"
      ],
      "metadata": {
        "colab": {
          "base_uri": "https://localhost:8080/"
        },
        "id": "z-nmJk6OfUET",
        "outputId": "e9b032a1-ae72-4373-d229-84749d021b3b"
      },
      "execution_count": 7,
      "outputs": [
        {
          "output_type": "stream",
          "name": "stdout",
          "text": [
            "F1 Score: 0.972\n"
          ]
        }
      ]
    },
    {
      "cell_type": "code",
      "source": [
        ""
      ],
      "metadata": {
        "id": "SyKrP7LSfUBp"
      },
      "execution_count": null,
      "outputs": []
    },
    {
      "cell_type": "code",
      "source": [
        ""
      ],
      "metadata": {
        "id": "18wpUZV5fT_e"
      },
      "execution_count": null,
      "outputs": []
    },
    {
      "cell_type": "code",
      "source": [
        ""
      ],
      "metadata": {
        "id": "PRsvUp9GfT9K"
      },
      "execution_count": null,
      "outputs": []
    },
    {
      "cell_type": "code",
      "source": [
        ""
      ],
      "metadata": {
        "id": "7hulflZDfT6s"
      },
      "execution_count": null,
      "outputs": []
    }
  ]
}