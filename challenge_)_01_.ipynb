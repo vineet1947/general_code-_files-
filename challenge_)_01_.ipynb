{
  "nbformat": 4,
  "nbformat_minor": 0,
  "metadata": {
    "colab": {
      "name": "challenge : ) 01 .ipynb",
      "provenance": [],
      "authorship_tag": "ABX9TyMM6Z3w7WGR0a/6Au7sB4HS",
      "include_colab_link": true
    },
    "kernelspec": {
      "name": "python3",
      "display_name": "Python 3"
    },
    "language_info": {
      "name": "python"
    }
  },
  "cells": [
    {
      "cell_type": "markdown",
      "metadata": {
        "id": "view-in-github",
        "colab_type": "text"
      },
      "source": [
        "<a href=\"https://colab.research.google.com/github/vineet1947/general_code-_files-/blob/main/challenge_)_01_.ipynb\" target=\"_parent\"><img src=\"https://colab.research.google.com/assets/colab-badge.svg\" alt=\"Open In Colab\"/></a>"
      ]
    },
    {
      "cell_type": "code",
      "source": [
        "#Challenge-1\n",
        "\n",
        "def fun(a) :\n",
        "  return a + 1 \n",
        "\n",
        "\n",
        "fun(100)"
      ],
      "metadata": {
        "colab": {
          "base_uri": "https://localhost:8080/"
        },
        "id": "Ytm7AUbNSHxJ",
        "outputId": "cd08c1aa-dfa4-4a3b-bd87-a0e9549a5590"
      },
      "execution_count": 1,
      "outputs": [
        {
          "output_type": "execute_result",
          "data": {
            "text/plain": [
              "101"
            ]
          },
          "metadata": {},
          "execution_count": 1
        }
      ]
    },
    {
      "cell_type": "code",
      "source": [
        "#Challenge-2\n",
        "\n",
        "def sec(a) : \n",
        "  return int(a*60)\n",
        "\n",
        "sec(5) ,sec(3) ,sec(2)\n"
      ],
      "metadata": {
        "colab": {
          "base_uri": "https://localhost:8080/"
        },
        "id": "oqOR39zdSHuk",
        "outputId": "deee4066-e62a-4221-cc8d-763ce8ce2f20"
      },
      "execution_count": 3,
      "outputs": [
        {
          "output_type": "execute_result",
          "data": {
            "text/plain": [
              "(300, 180, 120)"
            ]
          },
          "metadata": {},
          "execution_count": 3
        }
      ]
    },
    {
      "cell_type": "code",
      "source": [
        "#Challenge-3 \n",
        "\n",
        "def tri(h,  b) :\n",
        "  return  \"the area is  :  \"  + str( (h*b)/2 )\n",
        "\n",
        "\n",
        "tri(10 , 20)"
      ],
      "metadata": {
        "colab": {
          "base_uri": "https://localhost:8080/",
          "height": 35
        },
        "id": "lwQpyqjsSHq1",
        "outputId": "bc514975-cdf2-4d0c-ff23-f1672cb9455c"
      },
      "execution_count": 9,
      "outputs": [
        {
          "output_type": "execute_result",
          "data": {
            "text/plain": [
              "'the area is  :  100.0'"
            ],
            "application/vnd.google.colaboratory.intrinsic+json": {
              "type": "string"
            }
          },
          "metadata": {},
          "execution_count": 9
        }
      ]
    },
    {
      "cell_type": "code",
      "source": [
        "#Challenge-4 \n",
        "\n",
        "def next_edge(a,  b) :\n",
        "  return  a+b-1 \n",
        "\n",
        "\n",
        "next_edge( 8 , 10 ) , next_edge( 5 , 7 )  , next_edge( 9 , 2 )"
      ],
      "metadata": {
        "colab": {
          "base_uri": "https://localhost:8080/"
        },
        "id": "bIkadIdXSHoe",
        "outputId": "b23407e5-1863-4045-e217-5ce7d103f715"
      },
      "execution_count": 14,
      "outputs": [
        {
          "output_type": "execute_result",
          "data": {
            "text/plain": [
              "(17, 11, 10)"
            ]
          },
          "metadata": {},
          "execution_count": 14
        }
      ]
    },
    {
      "cell_type": "code",
      "source": [
        "#Challenge-5 \n",
        "\n",
        "def rem(a, b ) :\n",
        "  try :\n",
        "    return a %b \n",
        "  except ZeroDivisionError : \n",
        "    return  \"Zero divide Error\" \n",
        "\n",
        "\n",
        "rem(5,  0) , rem(7 ,2) ,rem(10, 4 )"
      ],
      "metadata": {
        "colab": {
          "base_uri": "https://localhost:8080/"
        },
        "id": "QvvUxsbqSHmE",
        "outputId": "1e038d73-4530-46d0-ad71-d3ddb0ac7724"
      },
      "execution_count": 20,
      "outputs": [
        {
          "output_type": "execute_result",
          "data": {
            "text/plain": [
              "('Zero divide Error', 1, 2)"
            ]
          },
          "metadata": {},
          "execution_count": 20
        }
      ]
    },
    {
      "cell_type": "code",
      "source": [
        "# Challenge-5\n",
        "\n",
        "def calc_age(a) : \n",
        "  return a*365\n",
        "\n",
        "calc_age(65) , calc_age(20)\n",
        "\n"
      ],
      "metadata": {
        "colab": {
          "base_uri": "https://localhost:8080/"
        },
        "id": "FCkp-jQ9SHjh",
        "outputId": "a05d2abe-5de1-45aa-dd4c-c780cf38bf98"
      },
      "execution_count": 22,
      "outputs": [
        {
          "output_type": "execute_result",
          "data": {
            "text/plain": [
              "(23725, 7300)"
            ]
          },
          "metadata": {},
          "execution_count": 22
        }
      ]
    },
    {
      "cell_type": "code",
      "source": [
        "# Challenge-6\n",
        "\n",
        "def circuit_power(a,  b) :\n",
        "  return a*b \n",
        "\n",
        "circuit_power(230  , 10)"
      ],
      "metadata": {
        "colab": {
          "base_uri": "https://localhost:8080/"
        },
        "id": "FM4v2KWRSHff",
        "outputId": "4398f228-e408-488a-d8a5-ce34f2070465"
      },
      "execution_count": 24,
      "outputs": [
        {
          "output_type": "execute_result",
          "data": {
            "text/plain": [
              "2300"
            ]
          },
          "metadata": {},
          "execution_count": 24
        }
      ]
    },
    {
      "cell_type": "code",
      "source": [
        "# Challenge-7\n",
        "\n",
        "def squared(a) :\n",
        "  return a*a \n",
        "\n"
      ],
      "metadata": {
        "id": "UdyQ6wcISHdD"
      },
      "execution_count": 25,
      "outputs": []
    },
    {
      "cell_type": "code",
      "source": [
        "# Challenge-8\n",
        "\n",
        "def wins(a,  b  ,c) :\n",
        "  return a*3 + b \n",
        "\n",
        "wins(3,4,2) , wins( 5, 0 ,2)"
      ],
      "metadata": {
        "colab": {
          "base_uri": "https://localhost:8080/"
        },
        "id": "SCSEpoyNSHXe",
        "outputId": "0aafb4a3-83d5-4037-d647-42eeed609d9c"
      },
      "execution_count": 26,
      "outputs": [
        {
          "output_type": "execute_result",
          "data": {
            "text/plain": [
              "(13, 15)"
            ]
          },
          "metadata": {},
          "execution_count": 26
        }
      ]
    },
    {
      "cell_type": "code",
      "source": [
        "# Challenge-9\n",
        "\n",
        "def legs(c ,co ,p) : \n",
        "  return c*2 + (p +co)*4 \n",
        "\n",
        "\n",
        "legs(2,3,5)"
      ],
      "metadata": {
        "colab": {
          "base_uri": "https://localhost:8080/"
        },
        "id": "pQ26nRSvZNwW",
        "outputId": "a699caa3-a35d-4f29-db6b-9654fb1d4e30"
      },
      "execution_count": 27,
      "outputs": [
        {
          "output_type": "execute_result",
          "data": {
            "text/plain": [
              "36"
            ]
          },
          "metadata": {},
          "execution_count": 27
        }
      ]
    },
    {
      "cell_type": "code",
      "source": [
        "#Challenge - 10 \n",
        "\n",
        "def total_amount_adjectives(dit) :\n",
        "  return len(dit)\n",
        "\n",
        "\n",
        "total_amount_adjectives({ \"a\": \"moron\" })  , total_amount_adjectives({ \"a\": \"idiot\", \"b\": \"idiot\", \"c\": \"idiot\" }) , total_amount_adjectives({ \"a\": \"moron\", \"b\": \"scumbag\", \"c\": \"moron\", \"d\": \"dirtbag\" })\n"
      ],
      "metadata": {
        "colab": {
          "base_uri": "https://localhost:8080/"
        },
        "id": "Qp0twZ6XZNt0",
        "outputId": "ad86a23d-9037-41c9-d86c-e74cebde19d7"
      },
      "execution_count": 30,
      "outputs": [
        {
          "output_type": "execute_result",
          "data": {
            "text/plain": [
              "(1, 3, 4)"
            ]
          },
          "metadata": {},
          "execution_count": 30
        }
      ]
    },
    {
      "cell_type": "code",
      "source": [
        "# Challenge-11 \n",
        "\n",
        "def points(a, b ) :\n",
        "  return a*2 + b*3 \n",
        "\n",
        "points(1,1) , points(7 , 5)"
      ],
      "metadata": {
        "colab": {
          "base_uri": "https://localhost:8080/"
        },
        "id": "V-b8XocvZNrE",
        "outputId": "c92340d0-e339-4cb3-9ffa-6a3bdac48bdc"
      },
      "execution_count": 31,
      "outputs": [
        {
          "output_type": "execute_result",
          "data": {
            "text/plain": [
              "(5, 29)"
            ]
          },
          "metadata": {},
          "execution_count": 31
        }
      ]
    },
    {
      "cell_type": "code",
      "source": [
        "#Challenge-12\n",
        "\n",
        "def diff(lst) :\n",
        "  return max(lst)  - min(lst) \n",
        "\n",
        "\n",
        "diff([10, 20, 30, 40, 100])"
      ],
      "metadata": {
        "colab": {
          "base_uri": "https://localhost:8080/"
        },
        "id": "_z_rs7a_ZNoW",
        "outputId": "2fd56ef0-cb78-4304-b51d-a32f4b1063e1"
      },
      "execution_count": 32,
      "outputs": [
        {
          "output_type": "execute_result",
          "data": {
            "text/plain": [
              "90"
            ]
          },
          "metadata": {},
          "execution_count": 32
        }
      ]
    },
    {
      "cell_type": "code",
      "source": [
        "#Challenge-13 \n",
        "\n",
        "def concat(a , b ) :\n",
        "  return a + b\n",
        "\n",
        "\n",
        "concat([1, 3, 5], [2, 6, 8]) , concat([7, 8], [10, 9, 1, 1, 2]) ,   concat([4, 5, 1], [3, 3, 3, 3, 3])\n",
        "\n"
      ],
      "metadata": {
        "colab": {
          "base_uri": "https://localhost:8080/"
        },
        "id": "7n6Q07W4ZNlv",
        "outputId": "b3a9bbc8-38dc-405e-b0ff-410645156e25"
      },
      "execution_count": 38,
      "outputs": [
        {
          "output_type": "execute_result",
          "data": {
            "text/plain": [
              "([1, 3, 5, 2, 6, 8], [7, 8, 10, 9, 1, 1, 2], [4, 5, 1, 3, 3, 3, 3, 3])"
            ]
          },
          "metadata": {},
          "execution_count": 38
        }
      ]
    }
  ]
}