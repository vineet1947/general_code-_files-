{
  "nbformat": 4,
  "nbformat_minor": 0,
  "metadata": {
    "colab": {
      "name": "neural_net.ipynb",
      "provenance": [],
      "authorship_tag": "ABX9TyM34eOq7nq1p+3LMN0RoBS4",
      "include_colab_link": true
    },
    "kernelspec": {
      "name": "python3",
      "display_name": "Python 3"
    },
    "language_info": {
      "name": "python"
    }
  },
  "cells": [
    {
      "cell_type": "markdown",
      "metadata": {
        "id": "view-in-github",
        "colab_type": "text"
      },
      "source": [
        "<a href=\"https://colab.research.google.com/github/vineet1947/general_code-_files-/blob/main/simple_neural_net.ipynb\" target=\"_parent\"><img src=\"https://colab.research.google.com/assets/colab-badge.svg\" alt=\"Open In Colab\"/></a>"
      ]
    },
    {
      "cell_type": "code",
      "source": [
        "import tensorflow as tf"
      ],
      "metadata": {
        "id": "OhOlM47lUUBH"
      },
      "execution_count": 11,
      "outputs": []
    },
    {
      "cell_type": "code",
      "source": [
        "from tensorflow import keras\n"
      ],
      "metadata": {
        "id": "HH8CnlyWT90a"
      },
      "execution_count": 12,
      "outputs": []
    },
    {
      "cell_type": "code",
      "execution_count": 13,
      "metadata": {
        "id": "LWcQ9yVsTuTE"
      },
      "outputs": [],
      "source": [
        "l0 = tf. keras.layers.Dense(units=  4  , input_shape  = [1]) \n",
        "l1 = tf.keras.layers.Dense(units = 4) \n",
        "l2 = tf.keras.layers.Dense(units = 1)"
      ]
    },
    {
      "cell_type": "code",
      "source": [
        "model = tf.keras.Sequential([l0 , l1 ,  l2]) \n",
        "model.compile(loss = 'mean_squared_error' , optimizer = tf.keras.optimizers.Adam(0.1) )"
      ],
      "metadata": {
        "id": "SoMvb000T7Z2"
      },
      "execution_count": 14,
      "outputs": []
    },
    {
      "cell_type": "code",
      "source": [
        "import numpy as np"
      ],
      "metadata": {
        "id": "dr337r8fW8nk"
      },
      "execution_count": 15,
      "outputs": []
    },
    {
      "cell_type": "code",
      "source": [
        "celcius = np.array([-40 ,  -10 , 0 , 8 , 15  , 22 , 38] , dtype= float) \n",
        "far = np.array([-40 ,  14 , 32, 46 , 59 , 72 , 100] , dtype  = float )"
      ],
      "metadata": {
        "id": "ytr077oxWrSt"
      },
      "execution_count": 16,
      "outputs": []
    },
    {
      "cell_type": "code",
      "source": [
        "model.fit(celcius  , far  , epochs = 500 , verbose = False)"
      ],
      "metadata": {
        "colab": {
          "base_uri": "https://localhost:8080/"
        },
        "id": "tJKrTCcST7d9",
        "outputId": "e9211ffc-2831-450d-8f7d-7c61d22cc942"
      },
      "execution_count": 19,
      "outputs": [
        {
          "output_type": "execute_result",
          "data": {
            "text/plain": [
              "<keras.callbacks.History at 0x7f61103eb750>"
            ]
          },
          "metadata": {},
          "execution_count": 19
        }
      ]
    },
    {
      "cell_type": "code",
      "source": [
        "model.predict([100])"
      ],
      "metadata": {
        "colab": {
          "base_uri": "https://localhost:8080/"
        },
        "id": "sYssvWrIT7gQ",
        "outputId": "0b983e18-39d5-421f-85c8-3ff9c69f15dc"
      },
      "execution_count": 21,
      "outputs": [
        {
          "output_type": "execute_result",
          "data": {
            "text/plain": [
              "array([[211.74744]], dtype=float32)"
            ]
          },
          "metadata": {},
          "execution_count": 21
        }
      ]
    },
    {
      "cell_type": "code",
      "source": [
        "l0.get_weights()"
      ],
      "metadata": {
        "colab": {
          "base_uri": "https://localhost:8080/"
        },
        "id": "rCQuSjsDT7mf",
        "outputId": "961cc6a4-033c-4ca4-f10f-d09f886e68f9"
      },
      "execution_count": 22,
      "outputs": [
        {
          "output_type": "execute_result",
          "data": {
            "text/plain": [
              "[array([[-0.18372269,  0.531092  , -0.0732225 ,  0.29199383]],\n",
              "       dtype=float32),\n",
              " array([-0.597703 ,  3.7986794, -1.6525108,  3.2896533], dtype=float32)]"
            ]
          },
          "metadata": {},
          "execution_count": 22
        }
      ]
    },
    {
      "cell_type": "code",
      "source": [
        "l1.get_weights()"
      ],
      "metadata": {
        "colab": {
          "base_uri": "https://localhost:8080/"
        },
        "id": "e1olZ3F2T7or",
        "outputId": "263f1b41-59c2-4a39-dae2-2509d1b9d517"
      },
      "execution_count": 26,
      "outputs": [
        {
          "output_type": "execute_result",
          "data": {
            "text/plain": [
              "[array([[ 0.30075464, -0.7102446 , -0.07773702, -0.03927414],\n",
              "        [ 0.7790308 , -0.28473753,  0.0844007 , -1.0468776 ],\n",
              "        [-0.47514254,  0.6858956 , -0.5703187 ,  0.20308785],\n",
              "        [-0.11247142,  1.1141406 ,  1.0506816 , -0.33224645]],\n",
              "       dtype=float32),\n",
              " array([ 3.1607425,  1.5175419,  3.632065 , -3.6449358], dtype=float32)]"
            ]
          },
          "metadata": {},
          "execution_count": 26
        }
      ]
    },
    {
      "cell_type": "code",
      "source": [
        "l2.get_weights()"
      ],
      "metadata": {
        "colab": {
          "base_uri": "https://localhost:8080/"
        },
        "id": "aAxnr1sOX7NE",
        "outputId": "60c0f096-2859-49e9-8a23-ee92f123e551"
      },
      "execution_count": 25,
      "outputs": [
        {
          "output_type": "execute_result",
          "data": {
            "text/plain": [
              "[array([[ 0.8319738],\n",
              "        [ 0.6633072],\n",
              "        [ 0.9492451],\n",
              "        [-1.4264405]], dtype=float32), array([3.5670154], dtype=float32)]"
            ]
          },
          "metadata": {},
          "execution_count": 25
        }
      ]
    },
    {
      "cell_type": "code",
      "source": [
        ""
      ],
      "metadata": {
        "id": "rXaQ7YX4X7kS"
      },
      "execution_count": null,
      "outputs": []
    }
  ]
}